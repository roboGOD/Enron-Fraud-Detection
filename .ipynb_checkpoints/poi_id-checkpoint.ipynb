{
 "cells": [
  {
   "cell_type": "code",
   "execution_count": 104,
   "metadata": {},
   "outputs": [],
   "source": [
    "import pickle\n",
    "import pandas as pd\n",
    "import numpy as np\n",
    "\n",
    "from sklearn.preprocessing import StandardScaler\n",
    "\n",
    "from sklearn.naive_bayes import GaussianNB\n",
    "from sklearn.linear_model import LogisticRegression\n",
    "from sklearn.neighbors import KNeighborsClassifier\n",
    "from sklearn.ensemble import RandomForestClassifier\n",
    "from sklearn.tree import DecisionTreeClassifier\n",
    "\n",
    "from sklearn.model_selection import train_test_split\n",
    "from sklearn.model_selection import StratifiedShuffleSplit\n",
    "from sklearn.model_selection import GridSearchCV\n",
    "\n",
    "from matplotlib import pyplot as plt"
   ]
  },
  {
   "cell_type": "markdown",
   "metadata": {},
   "source": [
    "## Loading data into pandas dataframe"
   ]
  },
  {
   "cell_type": "code",
   "execution_count": 105,
   "metadata": {
    "scrolled": true
   },
   "outputs": [
    {
     "name": "stdout",
     "output_type": "stream",
     "text": [
      "<class 'pandas.core.frame.DataFrame'>\n",
      "Index: 146 entries, 0 to 145\n",
      "Data columns (total 22 columns):\n",
      "name                         146 non-null object\n",
      "bonus                        82 non-null float64\n",
      "deferral_payments            39 non-null float64\n",
      "deferred_income              49 non-null float64\n",
      "director_fees                17 non-null float64\n",
      "email_address                111 non-null object\n",
      "exercised_stock_options      102 non-null float64\n",
      "expenses                     95 non-null float64\n",
      "from_messages                86 non-null float64\n",
      "from_poi_to_this_person      86 non-null float64\n",
      "from_this_person_to_poi      86 non-null float64\n",
      "loan_advances                4 non-null float64\n",
      "long_term_incentive          66 non-null float64\n",
      "other                        93 non-null float64\n",
      "poi                          146 non-null bool\n",
      "restricted_stock             110 non-null float64\n",
      "restricted_stock_deferred    18 non-null float64\n",
      "salary                       95 non-null float64\n",
      "shared_receipt_with_poi      86 non-null float64\n",
      "to_messages                  86 non-null float64\n",
      "total_payments               125 non-null float64\n",
      "total_stock_value            126 non-null float64\n",
      "dtypes: bool(1), float64(19), object(2)\n",
      "memory usage: 25.2+ KB\n"
     ]
    }
   ],
   "source": [
    "with open('datasets/final_project_dataset.pkl') as data_file:\n",
    "    data_dict = pickle.load(data_file)\n",
    "\n",
    "df = pd.DataFrame(data_dict).transpose()\n",
    "df = df.replace({\"NaN\":np.nan})\n",
    "df.reset_index(inplace=True)\n",
    "df.rename(index=str, columns={\"index\": \"name\"}, inplace=True)\n",
    "df.info()"
   ]
  },
  {
   "cell_type": "markdown",
   "metadata": {},
   "source": [
    "## Preprocessing the data\n",
    "1. Fix Mis-alignment\n",
    "2. Outlier removal\n",
    "3. Feature operations\n",
    "    - Feature selection \n",
    "    - Filling missing values\n",
    "    - Feature scaling\n",
    "    - Engineering new feature"
   ]
  },
  {
   "cell_type": "markdown",
   "metadata": {},
   "source": [
    "### 1. Fix Mis-alignment"
   ]
  },
  {
   "cell_type": "code",
   "execution_count": 106,
   "metadata": {
    "scrolled": true
   },
   "outputs": [],
   "source": [
    "### Adjusting the Mis-aligned columns\n",
    "###     8  : 'BELFER ROBERT'\n",
    "###     11 : 'BHATNAGAR SANJAY'\n",
    "FINANCE_COLS = ['salary', 'bonus', 'long_term_incentive', 'deferred_income', 'deferral_payments', \\\n",
    "                'loan_advances', 'other', 'expenses', 'director_fees', 'total_payments', 'exercised_stock_options',\\\n",
    "                'restricted_stock', 'restricted_stock_deferred', 'total_stock_value']\n",
    "df.loc[['8'], FINANCE_COLS] = \\\n",
    "[0, 0, 0, -102500, 0,0,0,3285,102500,3285,0,44093,-44093,0]\n",
    "\n",
    "df.loc[['11'], FINANCE_COLS] = \\\n",
    "[0, 0, 0, 0, 0,0,0,137864,0,137864,15456290,2604490,-2604490,15456290]\n",
    "\n",
    "### Handling -ve values\n",
    "df['deferred_income'] = df['deferred_income']*(-1)\n",
    "df['restricted_stock_deferred'] = df['restricted_stock_deferred']*(-1)"
   ]
  },
  {
   "cell_type": "markdown",
   "metadata": {},
   "source": [
    "### 2. Remove outliers"
   ]
  },
  {
   "cell_type": "code",
   "execution_count": 107,
   "metadata": {},
   "outputs": [],
   "source": [
    "### Removing Outliers\n",
    "###      78 : 'LAVORATO JOHN J'    ~ Non-poi Has maximum bonus received\n",
    "###     127 : 'THE TRAVEL AGENCY IN THE PARK'\n",
    "###     130 : 'TOTAL'\n",
    "\n",
    "df.drop(['78','127','130'], inplace=True)"
   ]
  },
  {
   "cell_type": "markdown",
   "metadata": {},
   "source": [
    "### 3. Feature operations"
   ]
  },
  {
   "cell_type": "code",
   "execution_count": 108,
   "metadata": {},
   "outputs": [],
   "source": [
    "### Fill missing values with 0\n",
    "df.fillna(0.0, inplace=True)\n",
    "\n",
    "### Scale the email features\n",
    "from_poi_scaled = df['from_poi_to_this_person']/df['to_messages']\n",
    "to_poi_scaled = df['from_this_person_to_poi']/df['from_messages']\n",
    "shared_receipt_with_poi_scaled = df['shared_receipt_with_poi']/df['to_messages']\n",
    "df['poi_interactions'] = from_poi_scaled + to_poi_scaled + shared_receipt_with_poi_scaled\n",
    "df.fillna(0.0, inplace=True)\n",
    "\n",
    "### Preprocess 'poi' column\n",
    "df.loc[df['poi'] == True, 'poi_code'] = 1\n",
    "df.loc[df['poi'] == False, 'poi_code'] = 0\n",
    "\n",
    "### Drop unnecessary columns\n",
    "drop_list = ['director_fees', 'name', 'loan_advances', 'shared_receipt_with_poi', 'to_messages', \n",
    "             'email_address', 'from_messages', 'from_poi_to_this_person', 'from_this_person_to_poi',\n",
    "            'restricted_stock_deferred', 'poi']\n",
    "df.drop(drop_list, axis=1, inplace=True)\n",
    "\n",
    "### Split Features and Labels\n",
    "features = df.drop('poi_code', axis=1).values\n",
    "labels = df['poi_code'].values\n",
    "\n",
    "\n",
    "### Scale the Features\n",
    "scale = StandardScaler()\n",
    "features = scale.fit_transform(features)"
   ]
  },
  {
   "cell_type": "code",
   "execution_count": 109,
   "metadata": {
    "scrolled": false
   },
   "outputs": [],
   "source": [
    "# df.describe()"
   ]
  },
  {
   "cell_type": "code",
   "execution_count": 110,
   "metadata": {
    "scrolled": true
   },
   "outputs": [],
   "source": [
    "# df"
   ]
  },
  {
   "cell_type": "code",
   "execution_count": 111,
   "metadata": {
    "scrolled": true
   },
   "outputs": [
    {
     "data": {
      "image/png": "[encoded data removed]",
      "text/plain": [
       "<Figure size 432x288 with 2 Axes>"
      ]
     },
     "metadata": {
      "needs_background": "light"
     },
     "output_type": "display_data"
    }
   ],
   "source": [
    "df['salary'].fillna(df['salary'].median(), inplace=True)\n",
    "df['bonus'].fillna(df['bonus'].median(), inplace=True)\n",
    "df_poi = df[df['poi_code'] == 1]\n",
    "df_non = df[df['poi_code'] == 0]\n",
    "plt.subplot(121)\n",
    "plt.scatter(df_poi['salary'].values, df_poi['bonus'].values, color='r', alpha=0.5)\n",
    "plt.subplot(122)\n",
    "plt.scatter(df_non['salary'].values, df_non['bonus'].values, color='g', alpha=0.5)\n",
    "plt.show()"
   ]
  },
  {
   "cell_type": "code",
   "execution_count": 112,
   "metadata": {
    "scrolled": true
   },
   "outputs": [],
   "source": [
    "# df_poi"
   ]
  },
  {
   "cell_type": "code",
   "execution_count": 113,
   "metadata": {
    "scrolled": false
   },
   "outputs": [],
   "source": [
    "### Split training and test data\n",
    "X_train, X_test, y_train, y_test = train_test_split(features, labels, test_size=0.2, random_state=42)\n",
    "\n",
    "# Create the model\n",
    "clf = GaussianNB()"
   ]
  },
  {
   "cell_type": "code",
   "execution_count": 114,
   "metadata": {
    "scrolled": true
   },
   "outputs": [
    {
     "name": "stdout",
     "output_type": "stream",
     "text": [
      "\n",
      "GaussianNB(priors=None)\n",
      "\n",
      "Accuracy: 0.84287\n",
      "Precision: 0.37204\n",
      "Recall: 0.25950\n",
      "F1: 0.30574\n",
      "F2: 0.27621\n",
      "\n",
      "Total predictions: 15000\n",
      "True positives:  519\n",
      "False positives:  876\n",
      "False negatives: 1481\n",
      "True negatives: 12124\n",
      "\n"
     ]
    },
    {
     "data": {
      "text/plain": [
       "0.8428666666666667"
      ]
     },
     "execution_count": 114,
     "metadata": {},
     "output_type": "execute_result"
    }
   ],
   "source": [
    "### Format in which the perfromance metrics will be printed\n",
    "PERF_FORMAT_STRING = \"\\\n",
    "\\nAccuracy: {:>0.{display_precision}f}\\nPrecision: {:>0.{display_precision}f}\\n\\\n",
    "Recall: {:>0.{display_precision}f}\\nF1: {:>0.{display_precision}f}\\nF2: {:>0.{display_precision}f}\"\n",
    "RESULTS_FORMAT_STRING = \"\\nTotal predictions: {:4d}\\nTrue positives: {:4d}\\nFalse positives: {:4d}\\n\\\n",
    "False negatives: {:4d}\\nTrue negatives: {:4d}\"\n",
    "\n",
    "### Perfrom cross validation\n",
    "def test_classifier(clf, features, labels, folds=1000):\n",
    "\n",
    "\tcv = StratifiedShuffleSplit(n_splits=folds, random_state = 42)\n",
    "\ttrue_negatives = 0\n",
    "\tfalse_negatives = 0\n",
    "\ttrue_positives = 0\n",
    "\tfalse_positives = 0\n",
    "\tfor train_idx, test_idx in cv.split(features, labels): \n",
    "\t    features_train = []\n",
    "\t    features_test  = []\n",
    "\t    labels_train   = []\n",
    "\t    labels_test    = []\n",
    "\t    for ii in train_idx:\n",
    "\t        features_train.append( features[ii] )\n",
    "\t        labels_train.append( labels[ii] )\n",
    "\t    for jj in test_idx:\n",
    "\t        features_test.append( features[jj] )\n",
    "\t        labels_test.append( labels[jj] )\n",
    "\t    \n",
    "\t    ### fit the classifier using training set, and test on test set\n",
    "\t    clf.fit(features_train, labels_train)\n",
    "\t    predictions = clf.predict(features_test)\n",
    "\t    for prediction, truth in zip(predictions, labels_test):\n",
    "\t        if prediction == 0 and truth == 0:\n",
    "\t            true_negatives += 1\n",
    "\t        elif prediction == 0 and truth == 1:\n",
    "\t            false_negatives += 1\n",
    "\t        elif prediction == 1 and truth == 0:\n",
    "\t            false_positives += 1\n",
    "\t        elif prediction == 1 and truth == 1:\n",
    "\t            true_positives += 1\n",
    "\t        else:\n",
    "\t            print \"Warning: Found a predicted label not == 0 or 1.\"\n",
    "\t            print \"All predictions should take value 0 or 1.\"\n",
    "\t            print \"Evaluating performance for processed predictions:\"\n",
    "\t            break\n",
    "\ttry:\n",
    "\t    total_predictions = true_negatives + false_negatives + false_positives + true_positives\n",
    "\t    accuracy = 1.0*(true_positives + true_negatives)/total_predictions\n",
    "\t    precision = 1.0*true_positives/(true_positives+false_positives)\n",
    "\t    recall = 1.0*true_positives/(true_positives+false_negatives)\n",
    "\t    f1 = 2.0 * true_positives/(2*true_positives + false_positives+false_negatives)\n",
    "\t    f2 = (1+2.0*2.0) * precision*recall/(4*precision + recall)\n",
    "\t    print \"\"\n",
    "\t    print clf\n",
    "\t    print PERF_FORMAT_STRING.format(accuracy, precision, recall, f1, f2, display_precision = 5)\n",
    "\t    print RESULTS_FORMAT_STRING.format(total_predictions, true_positives, false_positives, false_negatives, true_negatives)\n",
    "\t    print \"\"\n",
    "\t    return accuracy\n",
    "\texcept:\n",
    "\t    print \"Got a divide by zero when trying out:\", clf\n",
    "\t    print \"Precision or recall may be undefined due to a lack of true positive predicitons.\"\n",
    "\t    return 0.0\n",
    "\n",
    "test_classifier(clf, features, labels)\n"
   ]
  }
 ],
 "metadata": {
  "kernelspec": {
   "display_name": "Python 2",
   "language": "python",
   "name": "python2"
  },
  "language_info": {
   "codemirror_mode": {
    "name": "ipython",
    "version": 2
   },
   "file_extension": ".py",
   "mimetype": "text/x-python",
   "name": "python",
   "nbconvert_exporter": "python",
   "pygments_lexer": "ipython2",
   "version": "2.7.15+"
  }
 },
 "nbformat": 4,
 "nbformat_minor": 2
}
