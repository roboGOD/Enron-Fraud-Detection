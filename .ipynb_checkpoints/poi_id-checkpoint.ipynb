{
 "cells": [
  {
   "cell_type": "code",
   "execution_count": 2,
   "metadata": {},
   "outputs": [],
   "source": [
    "import pickle\n",
    "import pandas as pd\n",
    "import numpy as np"
   ]
  },
  {
   "cell_type": "code",
   "execution_count": 8,
   "metadata": {},
   "outputs": [
    {
     "name": "stdout",
     "output_type": "stream",
     "text": [
      "<class 'pandas.core.frame.DataFrame'>\n",
      "Index: 143 entries, ALLEN PHILLIP K to YEAP SOON\n",
      "Data columns (total 21 columns):\n",
      "bonus                        79 non-null float64\n",
      "deferral_payments            37 non-null float64\n",
      "deferred_income              47 non-null float64\n",
      "director_fees                16 non-null float64\n",
      "email_address                109 non-null object\n",
      "exercised_stock_options      99 non-null float64\n",
      "expenses                     92 non-null float64\n",
      "from_messages                84 non-null float64\n",
      "from_poi_to_this_person      84 non-null float64\n",
      "from_this_person_to_poi      84 non-null float64\n",
      "loan_advances                2 non-null float64\n",
      "long_term_incentive          63 non-null float64\n",
      "other                        90 non-null float64\n",
      "poi                          143 non-null bool\n",
      "restricted_stock             107 non-null float64\n",
      "restricted_stock_deferred    17 non-null float64\n",
      "salary                       92 non-null float64\n",
      "shared_receipt_with_poi      84 non-null float64\n",
      "to_messages                  84 non-null float64\n",
      "total_payments               122 non-null float64\n",
      "total_stock_value            123 non-null float64\n",
      "dtypes: bool(1), float64(19), object(1)\n",
      "memory usage: 23.6+ KB\n",
      "None\n"
     ]
    }
   ],
   "source": [
    "with open('datasets/final_project_dataset_modified.pkl') as data_file:\n",
    "    data_dict = pickle.load(data_file)\n",
    "\n",
    "df = pd.DataFrame(data_dict).transpose()\n",
    "df = df.replace({\"NaN\":np.nan})\n",
    "print df.info()"
   ]
  },
  {
   "cell_type": "code",
   "execution_count": 10,
   "metadata": {},
   "outputs": [
    {
     "name": "stdout",
     "output_type": "stream",
     "text": [
      "                        bonus  deferral_payments  deferred_income  \\\n",
      "ALLEN PHILLIP K     4175000.0          2869717.0       -3081055.0   \n",
      "BADUM JAMES P             NaN           178980.0              NaN   \n",
      "BANNANTINE JAMES M        NaN                NaN          -5104.0   \n",
      "BAXTER JOHN C       1200000.0          1295738.0       -1386055.0   \n",
      "BAY FRANKLIN R       400000.0           260455.0        -201641.0   \n",
      "\n",
      "                    director_fees               email_address  \\\n",
      "ALLEN PHILLIP K               NaN     phillip.allen@enron.com   \n",
      "BADUM JAMES P                 NaN                         NaN   \n",
      "BANNANTINE JAMES M            NaN  james.bannantine@enron.com   \n",
      "BAXTER JOHN C                 NaN                         NaN   \n",
      "BAY FRANKLIN R                NaN         frank.bay@enron.com   \n",
      "\n",
      "                    exercised_stock_options  expenses  from_messages  \\\n",
      "ALLEN PHILLIP K                   1729541.0   13868.0         2195.0   \n",
      "BADUM JAMES P                      257817.0    3486.0            NaN   \n",
      "BANNANTINE JAMES M                4046157.0   56301.0           29.0   \n",
      "BAXTER JOHN C                     6680544.0   11200.0            NaN   \n",
      "BAY FRANKLIN R                          NaN  129142.0            NaN   \n",
      "\n",
      "                    from_poi_to_this_person  from_this_person_to_poi  \\\n",
      "ALLEN PHILLIP K                        47.0                     65.0   \n",
      "BADUM JAMES P                           NaN                      NaN   \n",
      "BANNANTINE JAMES M                     39.0                      0.0   \n",
      "BAXTER JOHN C                           NaN                      NaN   \n",
      "BAY FRANKLIN R                          NaN                      NaN   \n",
      "\n",
      "                          ...          long_term_incentive      other    poi  \\\n",
      "ALLEN PHILLIP K           ...                     304805.0      152.0  False   \n",
      "BADUM JAMES P             ...                          NaN        NaN  False   \n",
      "BANNANTINE JAMES M        ...                          NaN   864523.0  False   \n",
      "BAXTER JOHN C             ...                    1586055.0  2660303.0  False   \n",
      "BAY FRANKLIN R            ...                          NaN       69.0  False   \n",
      "\n",
      "                    restricted_stock  restricted_stock_deferred    salary  \\\n",
      "ALLEN PHILLIP K             126027.0                  -126027.0  201955.0   \n",
      "BADUM JAMES P                    NaN                        NaN       NaN   \n",
      "BANNANTINE JAMES M         1757552.0                  -560222.0     477.0   \n",
      "BAXTER JOHN C              3942714.0                        NaN  267102.0   \n",
      "BAY FRANKLIN R              145796.0                   -82782.0  239671.0   \n",
      "\n",
      "                    shared_receipt_with_poi  to_messages  total_payments  \\\n",
      "ALLEN PHILLIP K                      1407.0       2902.0       4484442.0   \n",
      "BADUM JAMES P                           NaN          NaN        182466.0   \n",
      "BANNANTINE JAMES M                    465.0        566.0        916197.0   \n",
      "BAXTER JOHN C                           NaN          NaN       5634343.0   \n",
      "BAY FRANKLIN R                          NaN          NaN        827696.0   \n",
      "\n",
      "                    total_stock_value  \n",
      "ALLEN PHILLIP K             1729541.0  \n",
      "BADUM JAMES P                257817.0  \n",
      "BANNANTINE JAMES M          5243487.0  \n",
      "BAXTER JOHN C              10623258.0  \n",
      "BAY FRANKLIN R                63014.0  \n",
      "\n",
      "[5 rows x 21 columns]\n"
     ]
    }
   ],
   "source": [
    "print df.head()"
   ]
  },
  {
   "cell_type": "code",
   "execution_count": null,
   "metadata": {},
   "outputs": [],
   "source": []
  }
 ],
 "metadata": {
  "kernelspec": {
   "display_name": "Python 2",
   "language": "python",
   "name": "python2"
  },
  "language_info": {
   "codemirror_mode": {
    "name": "ipython",
    "version": 2
   },
   "file_extension": ".py",
   "mimetype": "text/x-python",
   "name": "python",
   "nbconvert_exporter": "python",
   "pygments_lexer": "ipython2",
   "version": "2.7.15+"
  }
 },
 "nbformat": 4,
 "nbformat_minor": 2
}
